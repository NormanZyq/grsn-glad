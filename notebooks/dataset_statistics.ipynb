{
 "cells": [
  {
   "cell_type": "markdown",
   "id": "ce915a85aecc7446",
   "metadata": {
    "collapsed": false,
    "jupyter": {
     "outputs_hidden": false
    }
   },
   "source": [
    "# 数据集统计信息"
   ]
  },
  {
   "cell_type": "code",
   "execution_count": 2,
   "id": "ce5a1d0862a19f34",
   "metadata": {
    "ExecuteTime": {
     "end_time": "2024-03-31T10:35:58.662914Z",
     "start_time": "2024-03-31T10:35:58.658702Z"
    },
    "collapsed": false,
    "jupyter": {
     "outputs_hidden": false
    }
   },
   "outputs": [
    {
     "name": "stderr",
     "output_type": "stream",
     "text": [
      "/home/zhuyeqi/miniconda3/envs/p38/lib/python3.8/site-packages/tqdm/auto.py:21: TqdmWarning: IProgress not found. Please update jupyter and ipywidgets. See https://ipywidgets.readthedocs.io/en/stable/user_install.html\n",
      "  from .autonotebook import tqdm as notebook_tqdm\n"
     ]
    }
   ],
   "source": [
    "from src.data.components.full_info_dataset import FullInfoDataset\n",
    "import dgl\n",
    "import numpy as np"
   ]
  },
  {
   "cell_type": "code",
   "execution_count": 3,
   "id": "8f3ebbda52bb4de3",
   "metadata": {
    "ExecuteTime": {
     "end_time": "2024-03-31T10:36:04.681717Z",
     "start_time": "2024-03-31T10:36:04.675112Z"
    },
    "collapsed": false,
    "jupyter": {
     "outputs_hidden": false
    }
   },
   "outputs": [],
   "source": [
    "meta = {\n",
    "    'AIDS': {'dsl': 0, 'dsr': 0.1},\n",
    "    'DHFR': {'dsl': 0, 'dsr': 0.2},\n",
    "    'IMDB-BINARY': {'dsl': 0, 'dsr': 0.1},\n",
    "    'REDDIT-BINARY': {'dsl': 0, 'dsr': 0.1},\n",
    "    'Tox21_MMP_training': {'dsl': 1, 'dsr': 1.1},\n",
    "    'Tox21_p53_training': {'dsl': 1, 'dsr': 1.1},\n",
    "    'PROTEINS_full': {'dsl': 1, 'dsr': 0.3},\n",
    "    'Tox21_HSE_training': {'dsl': 1, 'dsr': 1.1}\n",
    "}"
   ]
  },
  {
   "cell_type": "code",
   "execution_count": 4,
   "id": "af6f9683164bd312",
   "metadata": {
    "ExecuteTime": {
     "end_time": "2024-03-31T10:36:09.905223Z",
     "start_time": "2024-03-31T10:36:09.901101Z"
    },
    "collapsed": false,
    "jupyter": {
     "outputs_hidden": false
    }
   },
   "outputs": [
    {
     "name": "stdout",
     "output_type": "stream",
     "text": [
      "{'AIDS': {'dsl': 0, 'dsr': 0.1}, 'DHFR': {'dsl': 0, 'dsr': 0.2}, 'IMDB-BINARY': {'dsl': 0, 'dsr': 0.1}, 'REDDIT-BINARY': {'dsl': 0, 'dsr': 0.1}, 'Tox21_MMP_training': {'dsl': 1, 'dsr': 1.1}, 'Tox21_p53_training': {'dsl': 1, 'dsr': 1.1}, 'PROTEINS_full': {'dsl': 1, 'dsr': 0.3}, 'Tox21_HSE_training': {'dsl': 1, 'dsr': 1.1}}\n"
     ]
    }
   ],
   "source": [
    "print(meta)"
   ]
  },
  {
   "cell_type": "code",
   "execution_count": 5,
   "id": "305c827e5cc23f50",
   "metadata": {
    "ExecuteTime": {
     "end_time": "2024-03-31T10:35:20.418579Z",
     "start_time": "2024-03-31T10:35:20.141793Z"
    },
    "collapsed": false,
    "jupyter": {
     "outputs_hidden": false
    }
   },
   "outputs": [
    {
     "name": "stdout",
     "output_type": "stream",
     "text": [
      "seed has been fixed to 12345\n",
      "seed has been reset to your config, 12345\n"
     ]
    }
   ],
   "source": [
    "name = 'AIDS'\n",
    "ds = FullInfoDataset(name, down_sample_label=meta[name]['dsl'], down_sample_rate=meta[name]['dsr'], re_gen_ds_labels=True)\n",
    "ds.process()"
   ]
  },
  {
   "cell_type": "code",
   "execution_count": 6,
   "id": "881f7aa7a981ea16",
   "metadata": {
    "ExecuteTime": {
     "end_time": "2024-03-31T10:35:27.404596Z",
     "start_time": "2024-03-31T10:35:27.387683Z"
    },
    "collapsed": false,
    "jupyter": {
     "outputs_hidden": false
    }
   },
   "outputs": [
    {
     "data": {
      "text/plain": [
       "1650"
      ]
     },
     "execution_count": 6,
     "metadata": {},
     "output_type": "execute_result"
    }
   ],
   "source": [
    "len(ds.graphs)"
   ]
  },
  {
   "cell_type": "code",
   "execution_count": 11,
   "id": "ce485ee3e2c88a91",
   "metadata": {
    "ExecuteTime": {
     "end_time": "2024-03-31T10:56:55.252660Z",
     "start_time": "2024-03-31T10:56:55.204991Z"
    },
    "collapsed": false,
    "jupyter": {
     "outputs_hidden": false
    }
   },
   "outputs": [
    {
     "name": "stdout",
     "output_type": "stream",
     "text": [
      "Dataset AIDS, #G0=50, #G1=1600, Total#G=1650\n",
      "\tAvgG0#V=38.76, AvgG0#E=121.32, AvgG1#V=10.213125, AvgG1#E=30.579375 AvgTotal#V=11.078181818181818, AvgTotal#E=33.32909090909091\n"
     ]
    }
   ],
   "source": [
    "num_g0 = 0\n",
    "num_g1 = 0\n",
    "num_nodes_g0 = []\n",
    "num_nodes_g1 = []\n",
    "num_edges_g0 = []\n",
    "num_edges_g1 = []\n",
    "for graph, label in zip(ds.graphs, ds.labels):\n",
    "    if label == meta[name]['dsl']:\n",
    "        num_g0 += 1\n",
    "        num_nodes_g0.append(graph.num_nodes())\n",
    "        num_edges_g0.append(graph.num_edges())\n",
    "    else:\n",
    "        num_g1 += 1\n",
    "        num_nodes_g1.append(graph.num_nodes())\n",
    "        num_edges_g1.append(graph.num_edges())\n",
    "print('Dataset {}, #G0={}, #G1={}, Total#G={}\\n\\t'\n",
    "      'AvgG0#V={}, AvgG0#E={}, AvgG1#V={}, AvgG1#E={} '\n",
    "      'AvgTotal#V={}, AvgTotal#E={}'.format(name, num_g0, num_g1, num_g0 +num_g1, \n",
    "                                            np.mean(num_nodes_g0), np.mean(num_edges_g0), np.mean(num_nodes_g1), np.mean(num_edges_g1),\n",
    "                                            np.mean(num_nodes_g0 + num_nodes_g1), np.mean(num_edges_g0 + num_edges_g1)))"
   ]
  },
  {
   "cell_type": "code",
   "execution_count": 14,
   "id": "02d26bac-5dec-4ae8-937e-231061756e5a",
   "metadata": {},
   "outputs": [
    {
     "name": "stdout",
     "output_type": "stream",
     "text": [
      "seed has been fixed to 12345\n",
      "seed has been reset to your config, 12345\n",
      "Saved statistics to AIDS_statistics.csv\n",
      "seed has been fixed to 12345\n",
      "seed has been reset to your config, 12345\n",
      "Saved statistics to DHFR_statistics.csv\n",
      "seed has been fixed to 12345\n",
      "seed has been reset to your config, 12345\n",
      "Saved statistics to IMDB-BINARY_statistics.csv\n",
      "seed has been fixed to 12345\n",
      "seed has been reset to your config, 12345\n",
      "Saved statistics to REDDIT-BINARY_statistics.csv\n",
      "seed has been fixed to 12345\n",
      "seed has been reset to your config, 12345\n",
      "Saved statistics to Tox21_MMP_training_statistics.csv\n",
      "seed has been fixed to 12345\n",
      "seed has been reset to your config, 12345\n",
      "Saved statistics to Tox21_p53_training_statistics.csv\n",
      "seed has been fixed to 12345\n",
      "seed has been reset to your config, 12345\n",
      "Saved statistics to PROTEINS_full_statistics.csv\n",
      "seed has been fixed to 12345\n",
      "seed has been reset to your config, 12345\n",
      "Saved statistics to Tox21_HSE_training_statistics.csv\n"
     ]
    }
   ],
   "source": [
    "import pandas as pd\n",
    "for name in meta:\n",
    "    ds = FullInfoDataset(name, down_sample_label=meta[name]['dsl'], down_sample_rate=meta[name]['dsr'], re_gen_ds_labels=True)\n",
    "    ds.process()\n",
    "    num_g0 = 0\n",
    "    num_g1 = 0\n",
    "    num_nodes_g0 = []\n",
    "    num_nodes_g1 = []\n",
    "    num_edges_g0 = []\n",
    "    num_edges_g1 = []\n",
    "    for graph, label in zip(ds.graphs, ds.labels):\n",
    "        if label == meta[name]['dsl']:\n",
    "            num_g0 += 1\n",
    "            num_nodes_g0.append(graph.num_nodes())\n",
    "            num_edges_g0.append(graph.num_edges())\n",
    "        else:\n",
    "            num_g1 += 1\n",
    "            num_nodes_g1.append(graph.num_nodes())\n",
    "            num_edges_g1.append(graph.num_edges())\n",
    "    # Create a DataFrame with the calculated statistics\n",
    "    df_stats = pd.DataFrame({\n",
    "        'Metric': ['#G0', '#G1', 'Total#G', 'AvgG0#V', 'AvgG0#E', 'AvgG1#V', 'AvgG1#E', 'AvgTotal#V', 'AvgTotal#E'],\n",
    "        'Value': [num_g0, num_g1, num_g0 + num_g1,\n",
    "                  round(np.mean(num_nodes_g0), 2), round(np.mean(num_edges_g0), 2),\n",
    "                  round(np.mean(num_nodes_g1), 2), round(np.mean(num_edges_g1), 2),\n",
    "                  round(np.mean(num_nodes_g0 + num_nodes_g1), 2), round(np.mean(num_edges_g0 + num_edges_g1), 2)]\n",
    "    })\n",
    "\n",
    "    # Save the DataFrame to a CSV file\n",
    "    output_filename = f\"{name}_statistics.csv\"\n",
    "    df_stats.to_csv(output_filename, index=False)\n",
    "    print(f\"Saved statistics to {output_filename}\")"
   ]
  },
  {
   "cell_type": "code",
   "execution_count": null,
   "id": "3a536f41-acc8-4620-ac25-4b37a89b8b59",
   "metadata": {},
   "outputs": [],
   "source": []
  },
  {
   "cell_type": "code",
   "execution_count": null,
   "id": "a2008694-dc02-4065-b948-72450d981156",
   "metadata": {},
   "outputs": [],
   "source": []
  },
  {
   "cell_type": "code",
   "execution_count": null,
   "id": "68a38566-80d3-4a8f-99a6-ec51684825cf",
   "metadata": {},
   "outputs": [],
   "source": []
  }
 ],
 "metadata": {
  "kernelspec": {
   "display_name": "Python 3 (ipykernel)",
   "language": "python",
   "name": "python3"
  },
  "language_info": {
   "codemirror_mode": {
    "name": "ipython",
    "version": 3
   },
   "file_extension": ".py",
   "mimetype": "text/x-python",
   "name": "python",
   "nbconvert_exporter": "python",
   "pygments_lexer": "ipython3",
   "version": "3.8.18"
  }
 },
 "nbformat": 4,
 "nbformat_minor": 5
}
